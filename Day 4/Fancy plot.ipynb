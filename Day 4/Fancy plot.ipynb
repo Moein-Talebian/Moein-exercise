{
 "cells": [
  {
   "cell_type": "code",
   "execution_count": 1,
   "metadata": {},
   "outputs": [
    {
     "name": "stderr",
     "output_type": "stream",
     "text": [
      "No handles with labels found to put in legend.\n"
     ]
    }
   ],
   "source": [
    "import matplotlib\n",
    "matplotlib.use('MacOSX')\n",
    "\n",
    "import matplotlib.pyplot as plt\n",
    "import pandas as pd\n",
    "import numpy as np\n",
    "df0= pd.read_csv('/Users/moein/Desktop/Project_data.csv', parse_dates=['Time'])\n",
    "\n",
    "# Streaming current\n",
    "I0=df0['Current']\n",
    "\n",
    "# Time\n",
    "t0=pd.to_numeric(df0[\"Time\"])\n",
    "fig = plt.figure()\n",
    "ax  = fig.add_subplot(111)\n",
    "plt.plot(t0, I0, 'red')\n",
    "plt.xlabel('Time [s]')\n",
    "plt.ylabel('Streaming current [A]')\n",
    "plt.legend()\n",
    "plt.title(\"Streaming current vs Time\")\n",
    "plt.grid(alpha=0.5)\n",
    "plt.show()"
   ]
  },
  {
   "cell_type": "code",
   "execution_count": null,
   "metadata": {},
   "outputs": [],
   "source": []
  }
 ],
 "metadata": {
  "kernelspec": {
   "display_name": "Python 3",
   "language": "python",
   "name": "python3"
  },
  "language_info": {
   "codemirror_mode": {
    "name": "ipython",
    "version": 3
   },
   "file_extension": ".py",
   "mimetype": "text/x-python",
   "name": "python",
   "nbconvert_exporter": "python",
   "pygments_lexer": "ipython3",
   "version": "3.8.5"
  }
 },
 "nbformat": 4,
 "nbformat_minor": 4
}
